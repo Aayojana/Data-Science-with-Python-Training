{
 "cells": [
  {
   "cell_type": "markdown",
   "id": "de87b5f7",
   "metadata": {},
   "source": [
    "# NumPy\n",
    "\n",
    "* NumPy, a powerful Python library for numerical computing.\n",
    "\n",
    "* NumPy provides a multi-dimensional array object and a collection of functions for working with these arrays.\n",
    "\n",
    "* It is widely used in the field of data science for tasks such as data manipulation, mathematical operations, and more. \n",
    "\n",
    "\n",
    "\n",
    "* NumPy's official documentation (https://numpy.org/doc/) is an excellent resource to dive deeper and learn more about the library.\n"
   ]
  },
  {
   "cell_type": "markdown",
   "id": "9e61b6b8",
   "metadata": {},
   "source": [
    "## Installation\n"
   ]
  },
  {
   "cell_type": "markdown",
   "id": "656416eb",
   "metadata": {},
   "source": [
    "`pip install numpy`\n",
    "\n",
    "or \n",
    "\n",
    "`conda install -c anaconda numpy`"
   ]
  },
  {
   "cell_type": "markdown",
   "id": "29016ef6",
   "metadata": {},
   "source": [
    "To use NumPy, you need to import it in your Python script or notebook:\n",
    "\n",
    "`import numpy as np`"
   ]
  },
  {
   "cell_type": "markdown",
   "id": "25302f7b",
   "metadata": {},
   "source": [
    "## Creating NumPy Arrays:\n",
    "\n",
    "NumPy arrays are similar to Python lists, but they can hold multiple dimensions. Here are a few ways to create NumPy arrays:\n",
    "\n",
    "* From a Python list:"
   ]
  },
  {
   "cell_type": "code",
   "execution_count": 2,
   "id": "3ad9bf66",
   "metadata": {},
   "outputs": [
    {
     "name": "stdout",
     "output_type": "stream",
     "text": [
      "[1 2 3 4 5]\n"
     ]
    }
   ],
   "source": [
    "import numpy as np\n",
    "\n",
    "my_list = [1, 2, 3, 4, 5]\n",
    "arr = np.array(my_list)\n",
    "print(arr)"
   ]
  },
  {
   "cell_type": "markdown",
   "id": "e54b0ae1",
   "metadata": {},
   "source": [
    "* Using the arange function:"
   ]
  },
  {
   "cell_type": "code",
   "execution_count": 3,
   "id": "7e12187e",
   "metadata": {},
   "outputs": [
    {
     "name": "stdout",
     "output_type": "stream",
     "text": [
      "[1 2 3 4 5]\n"
     ]
    }
   ],
   "source": [
    "arr = np.arange(1, 6)  # Creates an array from 1 to 5\n",
    "print(arr)"
   ]
  },
  {
   "cell_type": "markdown",
   "id": "534cc2f6",
   "metadata": {},
   "source": [
    "* Using Zero functions:\n",
    "    "
   ]
  },
  {
   "cell_type": "code",
   "execution_count": 11,
   "id": "517c3b9f",
   "metadata": {},
   "outputs": [
    {
     "name": "stdout",
     "output_type": "stream",
     "text": [
      "[0. 0. 0. 0. 0.]\n"
     ]
    }
   ],
   "source": [
    "arr = np.zeros(5)  # Creates an array of zeros with length 5\n",
    "print(arr)"
   ]
  },
  {
   "cell_type": "markdown",
   "id": "68737a9d",
   "metadata": {},
   "source": [
    "* Using One functions:\n",
    "    "
   ]
  },
  {
   "cell_type": "code",
   "execution_count": 14,
   "id": "153dc4e0",
   "metadata": {},
   "outputs": [
    {
     "name": "stdout",
     "output_type": "stream",
     "text": [
      "[[1. 1. 1. 1.]\n",
      " [1. 1. 1. 1.]]\n"
     ]
    }
   ],
   "source": [
    "arr = np.ones((2,4))  # Creates a 2x3 array of ones\n",
    "print(arr)\n"
   ]
  },
  {
   "cell_type": "markdown",
   "id": "c88fda30",
   "metadata": {},
   "source": [
    "## Accessing Array Element\n",
    "\n",
    "* You can access elements of a NumPy array using indexing, similar to Python lists. \n",
    "\n",
    "* Remember, the indexing starts from 0."
   ]
  },
  {
   "cell_type": "code",
   "execution_count": 16,
   "id": "b78e4b19",
   "metadata": {},
   "outputs": [
    {
     "name": "stdout",
     "output_type": "stream",
     "text": [
      "1\n",
      "[3 4]\n"
     ]
    }
   ],
   "source": [
    "arr = np.array([1, 2, 3, 4, 5])\n",
    "print(arr[0])  # Accessing the first element\n",
    "print(arr[2:4])  # Accessing a slice from index 2 to 4 (exclusive)\n"
   ]
  },
  {
   "cell_type": "markdown",
   "id": "eba1d883",
   "metadata": {},
   "source": [
    "##  Array Operations\n",
    "\n",
    "NumPy arrays support various mathematical operations, both element-wise and across arrays. \n",
    "\n",
    "* Element-wise operations:"
   ]
  },
  {
   "cell_type": "code",
   "execution_count": 17,
   "id": "68832594",
   "metadata": {},
   "outputs": [
    {
     "name": "stdout",
     "output_type": "stream",
     "text": [
      "[5 7 9]\n",
      "[ 4 10 18]\n"
     ]
    }
   ],
   "source": [
    "arr1 = np.array([1, 2, 3])\n",
    "arr2 = np.array([4, 5, 6])\n",
    "\n",
    "# Addition\n",
    "result = arr1 + arr2\n",
    "print(result)\n",
    "\n",
    "# Multiplication\n",
    "result = arr1 * arr2\n",
    "print(result)\n"
   ]
  },
  {
   "cell_type": "markdown",
   "id": "28c55674",
   "metadata": {},
   "source": [
    "* Mathematical functions:"
   ]
  },
  {
   "cell_type": "code",
   "execution_count": 18,
   "id": "f4960c52",
   "metadata": {},
   "outputs": [
    {
     "name": "stdout",
     "output_type": "stream",
     "text": [
      "[1.         1.41421356 1.73205081 2.         2.23606798]\n",
      "3.0\n"
     ]
    }
   ],
   "source": [
    "arr = np.array([1, 2, 3, 4, 5])\n",
    "\n",
    "# Square root\n",
    "result = np.sqrt(arr)\n",
    "print(result)\n",
    "\n",
    "# Mean\n",
    "result = np.mean(arr)\n",
    "print(result)\n"
   ]
  },
  {
   "cell_type": "markdown",
   "id": "939f7fcc",
   "metadata": {},
   "source": [
    "## Array Shape and Reshaping\n",
    "\n",
    "* You can check the shape of a NumPy array using the shape attribute. \n",
    "\n",
    "* Additionally, you can reshape an array using the reshape function. "
   ]
  },
  {
   "cell_type": "code",
   "execution_count": 20,
   "id": "a17af3f3",
   "metadata": {},
   "outputs": [
    {
     "name": "stdout",
     "output_type": "stream",
     "text": [
      "(2, 3)\n",
      "---\n",
      "[[1 2]\n",
      " [3 4]\n",
      " [5 6]]\n"
     ]
    }
   ],
   "source": [
    "arr = np.array([[1, 2, 3], [4, 5, 6]])\n",
    "print(arr.shape)  # Prints (2, 3)\n",
    "\n",
    "\n",
    "print(\"---\")\n",
    "reshaped_arr = arr.reshape(3, 2)\n",
    "print(reshaped_arr)\n"
   ]
  },
  {
   "cell_type": "markdown",
   "id": "9fb8086c",
   "metadata": {},
   "source": [
    "## Basic Data Exploration with numpy"
   ]
  },
  {
   "cell_type": "code",
   "execution_count": 35,
   "id": "bfbe7323",
   "metadata": {},
   "outputs": [],
   "source": [
    "data = np.array([\n",
    "    [5.1, 3.5, 1.4, 0.2],\n",
    "    [4.9, 3.0, 1.4, 0.2],\n",
    "    [4.7, 3.2, 1.3, 0.2],\n",
    "    [4.6, 3.1, 1.5, 0.2],\n",
    "    [5.0, 3.6, 1.4, 0.2],\n",
    "    [5.4, 3.9, 1.7, 0.4],\n",
    "    [4.6, 3.4, 1.4, 0.3],\n",
    "    [5.0, 3.4, 1.5, 0.2],\n",
    "    [4.4, 2.9, 1.4, 0.2],\n",
    "    [4.9, 3.1, 1.5, 0.1],\n",
    "    [5.4, 3.7, 1.5, 0.2],\n",
    "    [4.8, 3.4, 1.6, 0.2],\n",
    "    [4.8, 3.0, 1.4, 0.1],\n",
    "    [4.3, 3.0, 1.1, 0.1],\n",
    "    [5.8, 4.0, 1.2, 0.2],\n",
    "    [5.7, 4.4, 1.5, 0.4],\n",
    "    [5.4, 3.9, 1.3, 0.4],\n",
    "    [5.1, 3.5, 1.4, 0.3],\n",
    "    [5.7, 3.8, 1.7, 0.3],\n",
    "    [5.1, 3.8, 1.5, 0.3],\n",
    "    [5.4, 3.4, 1.7, 0.2],\n",
    "    [5.1, 3.7, 1.5, 0.4],\n",
    "    [4.6, 3.6, 1.0, 0.2],\n",
    "    [5.1, 3.3, 1.7, 0.5],\n",
    "    [4.8, 3.4, 1.9, 0.2],\n",
    "    [5.0, 3.0, 1.6, 0.2],\n",
    "    [5.0, 3.4, 1.6, 0.4],\n",
    "    [5.2, 3.5, 1.5, 0.2],\n",
    "    [5.2, 3.4, 1.4, 0.2],\n",
    "    [4.7, 3.2, 1.6, 0.2],\n",
    "    [4.8, 3.1, 1.6, 0.2],\n",
    "    [5.4, 3.4, 1.5, 0.4],\n",
    "    [5.2, 4.1, 1.5, 0.1],\n",
    "    [5.5, 4.2, 1.4, 0.2],\n",
    "    [4.9, 3.1, 1.5, 0.2]])\n"
   ]
  },
  {
   "cell_type": "markdown",
   "id": "ee951456",
   "metadata": {},
   "source": [
    "## Aggregation Functions\n",
    "\n",
    "* NumPy provides various aggregation functions that summarize data, such as sum(), mean(), median(), min(), max(), var(), and std(). \n",
    "\n",
    "* These functions can be applied along specific axes or across the entire array"
   ]
  },
  {
   "cell_type": "code",
   "execution_count": 36,
   "id": "84c1a475",
   "metadata": {},
   "outputs": [
    {
     "name": "stdout",
     "output_type": "stream",
     "text": [
      "2.5585714285714283\n",
      "1.8607212777494075\n",
      "min val =  0.1\n",
      "5.8\n"
     ]
    }
   ],
   "source": [
    "\n",
    "\n",
    "# mean\n",
    "mean = np.mean(data)\n",
    "print(mean)\n",
    "\n",
    "#standard deviation\n",
    "\n",
    "std_dev = np.std(data)\n",
    "print(std_dev)\n",
    "\n",
    "min_val = np.min(data)\n",
    "max_val = np.max(data)\n",
    "\n",
    "print(\"min val = \",min_val)\n",
    "print(max_val)\n"
   ]
  },
  {
   "cell_type": "markdown",
   "id": "6e1586f0",
   "metadata": {},
   "source": [
    "## Filtered data\n",
    "NumPy provides the capability to filter data based on specific conditions using boolean indexing. \n",
    "\n"
   ]
  },
  {
   "cell_type": "code",
   "execution_count": 39,
   "id": "9f2372d3",
   "metadata": {},
   "outputs": [
    {
     "name": "stdout",
     "output_type": "stream",
     "text": [
      "[5.1 3.5 1.4 4.9 3.  1.4 4.7 3.2 1.3 4.6 3.1 1.5 5.  3.6 1.4 5.4 3.9 1.7\n",
      " 4.6 3.4 1.4 5.  3.4 1.5 4.4 2.9 1.4 4.9 3.1 1.5 5.4 3.7 1.5 4.8 3.4 1.6\n",
      " 4.8 3.  1.4 4.3 3.  1.1 5.8 4.  1.2 5.7 4.4 1.5 5.4 3.9 1.3 5.1 3.5 1.4\n",
      " 5.7 3.8 1.7 5.1 3.8 1.5 5.4 3.4 1.7 5.1 3.7 1.5 4.6 3.6 1.  5.1 3.3 1.7\n",
      " 4.8 3.4 1.9 5.  3.  1.6 5.  3.4 1.6 5.2 3.5 1.5 5.2 3.4 1.4 4.7 3.2 1.6\n",
      " 4.8 3.1 1.6 5.4 3.4 1.5 5.2 4.1 1.5 5.5 4.2 1.4 4.9 3.1 1.5]\n"
     ]
    }
   ],
   "source": [
    "filtered_data = data[data > 0.5]\n",
    "\n",
    "print(filtered_data)"
   ]
  },
  {
   "cell_type": "code",
   "execution_count": 32,
   "id": "0d717669",
   "metadata": {},
   "outputs": [
    {
     "name": "stdout",
     "output_type": "stream",
     "text": [
      "percentile of 25 2.0\n",
      "percentile of 75 14.5\n"
     ]
    }
   ],
   "source": [
    "p_25 = np.percentile(data, 25)\n",
    "p_75 = np.percentile(data, 75)\n",
    "\n",
    "print(\"percentile of 25\", p_25)\n",
    "print(\"percentile of 75\", p_75)"
   ]
  },
  {
   "cell_type": "markdown",
   "id": "d68491b8",
   "metadata": {},
   "source": [
    "## Array Sorting and Searching\n",
    "\n",
    "* NumPy provides functions for sorting arrays, finding unique elements, and searching for specific values.\n",
    "\n",
    "* Some commonly used functions include sort(), argsort(), unique(), searchsorted()"
   ]
  },
  {
   "cell_type": "code",
   "execution_count": 44,
   "id": "bf99cf2f",
   "metadata": {},
   "outputs": [
    {
     "name": "stdout",
     "output_type": "stream",
     "text": [
      "Sorted Array: [1 1 2 2 3 4 4 5 5]\n",
      "Unique Elements: [1 2 3 4 5]\n",
      "Insertion Index for 5.0: 7\n"
     ]
    }
   ],
   "source": [
    "\n",
    "# Sample data\n",
    "da = np.array([2, 1, 5, 3, 4, 1, 5, 2, 4])\n",
    "\n",
    "# Sort an array in ascending order \n",
    "# sorted_arr_desc = np.sort(data)[::-1]  for descending\n",
    "sorted_arr = np.sort(da)\n",
    "print(\"Sorted Array:\", sorted_arr)\n",
    "\n",
    "# Find unique elements in an array\n",
    "unique_elements = np.unique(da)\n",
    "print(\"Unique Elements:\", unique_elements)\n",
    "\n",
    "# Find the index where a value should be inserted to maintain the sorted order\n",
    "insertion_index = np.searchsorted(sorted_arr, 5.0)\n",
    "print(\"Insertion Index for 5.0:\", insertion_index)\n"
   ]
  },
  {
   "cell_type": "markdown",
   "id": "4ce9449b",
   "metadata": {},
   "source": [
    "The function returns the index position where the value should be inserted. \n",
    "\n",
    "This is useful when you want to determine the position of a value in a sorted array or if you want to insert a new value while keeping the array sorted.\n",
    "\n"
   ]
  },
  {
   "cell_type": "code",
   "execution_count": null,
   "id": "8002fced",
   "metadata": {},
   "outputs": [],
   "source": []
  }
 ],
 "metadata": {
  "kernelspec": {
   "display_name": "Python 3 (ipykernel)",
   "language": "python",
   "name": "python3"
  },
  "language_info": {
   "codemirror_mode": {
    "name": "ipython",
    "version": 3
   },
   "file_extension": ".py",
   "mimetype": "text/x-python",
   "name": "python",
   "nbconvert_exporter": "python",
   "pygments_lexer": "ipython3",
   "version": "3.10.10"
  }
 },
 "nbformat": 4,
 "nbformat_minor": 5
}
