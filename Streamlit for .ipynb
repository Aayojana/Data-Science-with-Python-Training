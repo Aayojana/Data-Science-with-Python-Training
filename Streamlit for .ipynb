{
 "cells": [
  {
   "cell_type": "markdown",
   "id": "29dd1068",
   "metadata": {},
   "source": [
    "# Streamlit for ML forntend\n",
    "\n",
    "Streamlit is an open-source Python library that makes it easy to create web applications for machine learning and data science. With Streamlit, you can quickly build interactive dashboards, prototypes, and data visualizations without dealing with the complexities of web development.\n",
    "\n",
    "## Benefits of Streamlit\n",
    "\n",
    "- **Simplicity**: Streamlit offers a simple and intuitive API, allowing you to create powerful web apps with just a few lines of code.\n",
    "- **Fast prototyping**: Streamlit's rapid development cycle enables you to iterate quickly and test your ideas in real-time.\n",
    "- **Automatic updates**: Streamlit automatically updates the web app as you modify your code, providing instant feedback.\n",
    "- **Integration with data science libraries**: Streamlit seamlessly integrates with popular data science libraries like Pandas, Matplotlib, and TensorFlow, making it easy to incorporate your data analysis and machine learning models.\n",
    "\n",
    "## Basic Streamlit Code\n",
    "\n",
    "Here's an example of a basic Streamlit code snippet:"
   ]
  },
  {
   "cell_type": "code",
   "execution_count": null,
   "id": "a01769ff",
   "metadata": {},
   "outputs": [
    {
     "name": "stdout",
     "output_type": "stream",
     "text": [
      "\u001b[0m\r\n",
      "\u001b[34m\u001b[1m  Welcome to Streamlit. Check out our demo in your browser.\u001b[0m\r\n",
      "\u001b[0m\r\n",
      "\u001b[34m  Local URL: \u001b[0m\u001b[1mhttp://localhost:8501\u001b[0m\r\n",
      "\u001b[34m  Network URL: \u001b[0m\u001b[1mhttp://192.168.8.115:8501\u001b[0m\r\n",
      "\u001b[0m\r\n",
      "  Ready to create your own Python apps super quickly?\u001b[0m\r\n",
      "  Head over to \u001b[0m\u001b[1mhttps://docs.streamlit.io\u001b[0m\r\n",
      "\u001b[0m\r\n",
      "  May you create awesome apps!\u001b[0m\r\n",
      "\u001b[0m\r\n",
      "\u001b[0m\r\n"
     ]
    }
   ],
   "source": [
    "!streamlit hello"
   ]
  },
  {
   "cell_type": "markdown",
   "id": "f0624541",
   "metadata": {},
   "source": [
    "# Run App\n",
    "\n",
    "To run code in a standalone Python environment (not in a Jupyter Notebook), you can save the code as a Python file (e.g., app.py) and run it using the streamlit run command in your terminal or command prompt:\n",
    "\n",
    "`streamlit run app.py`"
   ]
  },
  {
   "cell_type": "markdown",
   "id": "cab440c7",
   "metadata": {},
   "source": [
    "# Basic"
   ]
  },
  {
   "cell_type": "code",
   "execution_count": 5,
   "id": "cf38c87b",
   "metadata": {},
   "outputs": [],
   "source": [
    "import streamlit as st\n",
    "\n",
    "def main():\n",
    "    st.title(\"My First Streamlit App\")\n",
    "    st.write(\"Welcome to Streamlit!\")\n",
    "    st.write(\"Here, you can display text, data, and visualizations.\")\n",
    "\n",
    "if __name__ == \"__main__\":\n",
    "    main()"
   ]
  },
  {
   "cell_type": "markdown",
   "id": "e88b2c56",
   "metadata": {},
   "source": [
    "# BMI"
   ]
  },
  {
   "cell_type": "code",
   "execution_count": null,
   "id": "0fe5752e",
   "metadata": {},
   "outputs": [],
   "source": [
    "import streamlit as st\n",
    "\n",
    "# BMI calculation function\n",
    "def calculate_bmi(weight, height):\n",
    "    if height != 0:\n",
    "        height_m = height / 100  # Convert height from cm to meters\n",
    "        bmi = weight / (height_m ** 2)\n",
    "        return bmi\n",
    "    else:\n",
    "        return 0\n",
    "\n",
    "# Streamlit app\n",
    "def main():\n",
    "    st.title(\"BMI Calculator\")\n",
    "\n",
    "    # User input\n",
    "    weight = st.number_input(\"Enter your weight (in kg)\")\n",
    "    height = st.number_input(\"Enter your height (in cm)\")\n",
    "\n",
    "    # Calculate BMI\n",
    "    bmi = calculate_bmi(weight, height)\n",
    "\n",
    "    # Display result\n",
    "    st.subheader(\"BMI Result\")\n",
    "    st.write(\"Weight:\", weight, \"kg\")\n",
    "    st.write(\"Height:\", height, \"cm\")\n",
    "    \n",
    "    if bmi != 0:\n",
    "        st.write(\"BMI:\", bmi)\n",
    "    else:\n",
    "        st.write(\"Please enter a non-zero height value.\")\n",
    "\n",
    "    # BMI Categories\n",
    "    st.subheader(\"BMI Categories\")\n",
    "    st.write(\"Underweight: BMI < 18.5\")\n",
    "    st.write(\"Normal weight: 18.5 <= BMI < 24.9\")\n",
    "    st.write(\"Overweight: 25 <= BMI < 29.9\")\n",
    "    st.write(\"Obesity: BMI >= 30\")\n",
    "\n",
    "if __name__ == \"__main__\":\n",
    "    main()\n"
   ]
  },
  {
   "cell_type": "markdown",
   "id": "ebad1979",
   "metadata": {},
   "source": [
    "# Spam and Ham without Pickle File"
   ]
  },
  {
   "cell_type": "markdown",
   "id": "b852430d",
   "metadata": {},
   "source": [
    "* Pickle: \n",
    "    * This is one of the most popular ways to serialize objects in Python. \n",
    "    * You can use Pickle to serialize your trained machine learning model and save it to a file. At a later time or in another script, you can deserialize the file to access the trained model and use it to make predictions\n",
    "\n",
    "* Joblib: \n",
    "    * Joblib is the replacement of pickle and is more efficient on objects that carry large NumPy arrays. It can be used to serialize an object hierarchy\n",
    "\n",
    "* JSON: \n",
    "    * You can save the structure of a model in a JSON file. This is recommended for Keras models, where the model is saved as an HDF5 file containing everything needed to load the model and make predictions\n",
    "\n",
    "* HDF5:\n",
    "    * This format is recommended for saving Keras models. The HDF5 file contains the model's architecture, trained parameters, loss, optimizer settings, and the current state, allowing you to load the model for predictions or restart training\n",
    "\n",
    "* YAML: \n",
    "    * You can save the structure of a model in a YAML file. This format only saves the structure of the model"
   ]
  },
  {
   "cell_type": "markdown",
   "id": "2faf58c1",
   "metadata": {},
   "source": [
    "<img src=\"https://www.researchgate.net/publication/339997426/figure/fig6/AS:870267081478144@1584499249103/Count-Vectorization.jpg\" width=\"500\" height=\"600\" />\n",
    "\n",
    "\n",
    "<img src=\"https://knowledge.dataiku.com/latest/_images/count-vec-concept.png\" width=\"500\" height=\"600\" />"
   ]
  },
  {
   "cell_type": "code",
   "execution_count": 7,
   "id": "3b2188ff",
   "metadata": {},
   "outputs": [],
   "source": [
    "import streamlit as st\n",
    "from sklearn.feature_extraction.text import CountVectorizer\n",
    "from sklearn.naive_bayes import MultinomialNB\n",
    "\n",
    "# Function to train the Naive Bayes model\n",
    "def train_model(data, labels):\n",
    "    vectorizer = CountVectorizer()\n",
    "    X = vectorizer.fit_transform(data)\n",
    "    model = MultinomialNB()\n",
    "    model.fit(X, labels)\n",
    "    return model, vectorizer\n",
    "\n",
    "# Function to predict spam or ham\n",
    "def predict(model, vectorizer, message):\n",
    "    X = vectorizer.transfor m([message])\n",
    "    prediction = model.predict(X)\n",
    "    return prediction[0]\n",
    "\n",
    "# Streamlit app\n",
    "def main():\n",
    "    st.title(\"Spam or Ham Detection\")\n",
    "    \n",
    "    pandasd \n",
    "\n",
    "    # Train the model\n",
    "    data = df[\n",
    "        \"Hey, how are you?\",\n",
    "        \"Free money! Click here now!\",\n",
    "        \"I'm going to the park.\",\n",
    "        \"Congratulations! You've won a prize!\",\n",
    "        \"Reminder: Meeting tomorrow at 2 PM.\"\n",
    "    ]\n",
    "    labels = [\"ham\", \"spam\", \"ham\", \"spam\", \"ham\"]\n",
    "    model, vectorizer = train_model(data, labels)\n",
    "\n",
    "    # User input\n",
    "    message = st.text_input(\"Enter a message\")\n",
    "\n",
    "    # Predict\n",
    "    if st.button(\"Predict\"):\n",
    "        prediction = predict(model, vectorizer, message)\n",
    "        st.write(\"Prediction:\", prediction)\n",
    "\n",
    "if __name__ == \"__main__\":\n",
    "    main()\n"
   ]
  },
  {
   "cell_type": "markdown",
   "id": "92e902e5",
   "metadata": {},
   "source": [
    "# With Pickle\n"
   ]
  },
  {
   "cell_type": "code",
   "execution_count": 1,
   "id": "d9c78e3a",
   "metadata": {},
   "outputs": [],
   "source": [
    "import streamlit as st\n",
    "import pickle\n",
    "import os\n",
    "from sklearn.feature_extraction.text import CountVectorizer\n",
    "from sklearn.naive_bayes import MultinomialNB\n",
    "\n",
    "# Function to train the Naive Bayes model and save it as a pickle file\n",
    "def train_model(data, labels):\n",
    "    vectorizer = CountVectorizer()\n",
    "    X = vectorizer.fit_transform(data)\n",
    "    model = MultinomialNB()\n",
    "    model.fit(X, labels)\n",
    "\n",
    "    # Save the model as a pickle file\n",
    "    with open('spam_ham_model.pkl', 'wb') as file:\n",
    "        pickle.dump((model, vectorizer), file)\n",
    "\n",
    "    return model, vectorizer\n",
    "\n",
    "# Function to load the trained model from the pickle file\n",
    "def load_model():\n",
    "    with open('spam_ham_model.pkl', 'rb') as file:\n",
    "        model, vectorizer = pickle.load(file)\n",
    "    return model, vectorizer\n",
    "\n",
    "# Function to predict spam or ham\n",
    "def predict(model, vectorizer, message):\n",
    "    X = vectorizer.transform([message])\n",
    "    prediction = model.predict(X)\n",
    "    return prediction[0]\n",
    "\n",
    "# Streamlit app\n",
    "def main():\n",
    "    st.title(\"Spam or Ham Detection\")\n",
    "\n",
    "    # Check if the model pickle file exists\n",
    "    if not os.path.exists('spam_ham_model.pkl'):\n",
    "        # Train the model and create the pickle file\n",
    "        data = [\n",
    "            \"Hey, how are you?\",\n",
    "            \"Free money! Click here now!\",\n",
    "            \"I'm going to the park.\",\n",
    "            \"Congratulations! You've won a prize!\",\n",
    "            \"Reminder: Meeting tomorrow at 2 PM.\"\n",
    "        ]\n",
    "        labels = [\"ham\", \"spam\", \"ham\", \"spam\", \"ham\"]\n",
    "        model, vectorizer = train_model(data, labels)\n",
    "    else:\n",
    "        # Load the model from the pickle file\n",
    "        model, vectorizer = load_model()\n",
    "\n",
    "    # User input\n",
    "    message = st.text_input(\"Enter a message\")\n",
    "\n",
    "    # Predict\n",
    "    if st.button(\"Predict\"):\n",
    "        prediction = predict(model, vectorizer, message)\n",
    "        st.write(\"Prediction:\", prediction)\n",
    "\n",
    "if __name__ == \"__main__\":\n",
    "    main()\n"
   ]
  },
  {
   "cell_type": "markdown",
   "id": "37d307d8",
   "metadata": {},
   "source": [
    "# Try more\n",
    "\n",
    "https://medium.com/towards-data-science/build-your-first-data-visualization-web-app-in-python-using-streamlit-37e4c83a85db"
   ]
  },
  {
   "cell_type": "code",
   "execution_count": null,
   "id": "4ece5819",
   "metadata": {},
   "outputs": [],
   "source": []
  }
 ],
 "metadata": {
  "kernelspec": {
   "display_name": "Python 3 (ipykernel)",
   "language": "python",
   "name": "python3"
  },
  "language_info": {
   "codemirror_mode": {
    "name": "ipython",
    "version": 3
   },
   "file_extension": ".py",
   "mimetype": "text/x-python",
   "name": "python",
   "nbconvert_exporter": "python",
   "pygments_lexer": "ipython3",
   "version": "3.10.10"
  }
 },
 "nbformat": 4,
 "nbformat_minor": 5
}
