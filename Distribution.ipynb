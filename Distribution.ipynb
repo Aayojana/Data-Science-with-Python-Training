{
 "cells": [
  {
   "cell_type": "markdown",
   "id": "5b00767c",
   "metadata": {},
   "source": [
    "# Distributions\n",
    "\n",
    "\n",
    "- distribution represents how data is spread or distributed. \n",
    "- It shows the different values that a variable can take and how frequently each value occurs. \n",
    "\n",
    ">  Think of it as a way to describe and visualize the shape and pattern of data."
   ]
  },
  {
   "cell_type": "markdown",
   "id": "a4416fa7",
   "metadata": {},
   "source": [
    "### Key Terms\n",
    "\n",
    "Before we dive in, let's learn some key terms:\n",
    "\n",
    "- Data Point: Each individual piece of data in a dataset. For example, if we're looking at the heights of students, each student's height is a data point.\n",
    "\n",
    "- Dataset: A collection of data points. In our case, it's the complete list of student heights.\n",
    "\n",
    "- Frequency: The number of times a particular data point appears in a datase\n",
    "\n",
    "- Population: Entire collection of subject you are exploring\n",
    "\n",
    "- Sample: Subset of your population."
   ]
  },
  {
   "cell_type": "markdown",
   "id": "17d72bd8",
   "metadata": {},
   "source": [
    "### Types of Data Distribution\n",
    "\n",
    "There are different types of data distributions, and understanding them is crucial:\n",
    "\n",
    "1. Symmetric Distribution: In this type, the data is evenly spread on both sides of a central point, creating a symmetrical shape when plotted. It often resembles a bell curve and is called a normal distribution.\n",
    "\n",
    "2. Skewed Distribution: When data points are not evenly distributed and are more concentrated on one side, it's called a skewed distribution. There are two types:\n",
    "\n",
    "    - Positively Skewed (Right-skewed): The tail of the distribution points to the right.\n",
    "    - Negatively Skewed (Left-skewed): The tail of the distribution points to the left.\n",
    "    \n",
    "3. Bimodal Distribution: In some datasets, you might see two distinct peaks or modes. This is called a bimodal distribution. It suggests that there are two different groups or patterns within the data.\n",
    "\n",
    "\n",
    "![](https://external-content.duckduckgo.com/iu/?u=https%3A%2F%2Fcf.ppt-online.org%2Ffiles%2Fslide%2Fh%2FHFfmeRTChB7kvoVgQjqUDnM9rYzApZ30iNsI8c%2Fslide-22.jpg&f=1&nofb=1&ipt=7b73f02f72cd4f20f99edf66ef79403e3e9d528816f4678b603e4f6c2f491fbe&ipo=images)"
   ]
  },
  {
   "cell_type": "markdown",
   "id": "cf715264",
   "metadata": {},
   "source": [
    "### Why Is It Important?\n",
    "\n",
    "Understanding data distribution is crucial for various reasons:\n",
    "\n",
    "- It helps us summarize and describe data effectively.\n",
    "- We can make predictions and draw conclusions based on the distribution.\n",
    "- It's essential in hypothesis testing and making informed decisions in various fields, including science, economics, and social sciences."
   ]
  },
  {
   "cell_type": "markdown",
   "id": "c62b120d",
   "metadata": {},
   "source": [
    "### Symmetric Distibutionn\n",
    "\n",
    "- The most well-known symmetric distribution is the normal distribution, which has a distinct bell-shape.\n",
    "- If you were to draw a line down the center of the distribution, the left and right sides of the distribution would perfectly mirror each other:\n",
    "\n",
    "![normal Distibution](https://external-content.duckduckgo.com/iu/?u=https%3A%2F%2Fwww.skillsyouneed.com%2Fimages%2Fstats%2Fnormal-distribution.png&f=1&nofb=1&ipt=6ae98f51e78410f6263201d11423616e849a00f9f8cc82ae7c00acd70bf75f16&ipo=images)"
   ]
  },
  {
   "cell_type": "markdown",
   "id": "6e575886",
   "metadata": {},
   "source": [
    "#### Nature of N-Distibution\n",
    "1. Symmetry (Mirror) --  In a normal distribution, the mean, median, and mode are all the same and located at the center of the distribution.\n",
    "\n",
    "2. Bell-Shaped Curve -- The probability density function of a normal distribution forms a bell-shaped curve when plotted. The curve is highest (peak) at the mean and gradually decreases as you move away from the mean in either direction. \n",
    "\n",
    "\n",
    "3. Single Peak -- Unlike some other distributions that may have multiple peaks (multimodal), the normal distribution has a single peak at its mean. SO unimodal distribution.\n",
    "\n",
    "4. Asymptotic Tails -- The tails of the normal distribution extend infinitely in both directions, but they get closer and closer to the x-axis as you move away from the mean. This means that extreme values (far from the mean) are increasingly unlikely but still possible.\n",
    "\n",
    "\n",
    "5. Constant Standard Deviation -- The spread or variability of a normal distribution is determined by its standard deviation (σ). In a standard normal distribution (with a mean of 0 and standard deviation of 1), about 68% of the data falls within one standard deviation of the mean, about 95% falls within two standard deviations, and about 99.7% falls within three standard deviations.\n",
    "\n",
    "![SD and BEll curve](https://external-content.duckduckgo.com/iu/?u=https%3A%2F%2Fspss-tutorials.com%2Fimg%2Fstandard-normal-distribution-with-probabilities.png&f=1&nofb=1&ipt=12915bf1d13b6ab85305e0ab72f20bbdb90eb5f7760afd7e2af70d16fcee017b&ipo=images)\n",
    "\n",
    "\n",
    "\n",
    "\n",
    "6.  Empirical Rule -- The empirical rule, also known as the 68-95-99.7 rule, states that in a normal distribution:\n",
    "    - Approximately 68% of the data falls within one standard deviation of the mean.\n",
    "    - Approximately 95% falls within two standard deviations.\n",
    "    - Approximately 99.7% falls within three standard deviations."
   ]
  },
  {
   "cell_type": "markdown",
   "id": "15c7f498",
   "metadata": {},
   "source": [
    "### Skewed Distribution\n",
    "\n",
    "- A skewed distribution, also known as an asymmetric distribution, is a type of probability distribution in which the data is not evenly distributed around its mean (average). \n",
    "\n",
    "- Data is skewed or distorted to one side, either to the right (positively skewed) or to the left (negatively skewed).\n",
    "\n",
    "![](https://external-content.duckduckgo.com/iu/?u=https%3A%2F%2Fwww.asquareschool.com%2Fwp-content%2Fuploads%2F2015%2F08%2Fskewness.jpg&f=1&nofb=1&ipt=171cd7eb396c8011e1fc22e8f3df20791a783398fcfb2d3e3886ac35d02d26c2&ipo=images)\n",
    "1. Positively Skewed (Right-Skewed) Distribution\n",
    "     - the tail on the right-hand side (the upper tail) is longer or stretched out compared to the left-hand side.\n",
    "     - mean (average) is typically greater than the median.\n",
    "     \n",
    "Common examples of positively skewed distributions include:\n",
    "\n",
    "    - Income distributions, where a few people have very high incomes, skewing the distribution to the right.\n",
    "    - Test scores, where most students score well, but a few students perform exceptionally well, leading to a right-skewed distribution.\n",
    "    \n",
    "    \n",
    "<div style=\"display: flex;\">\n",
    "  <div style=\"flex: 50%; padding: 10px;\">\n",
    "    <img src=\"https://www.statology.org/wp-content/uploads/2021/05/rightSkew1-1-768x880.png \" alt=\"Image 1\" width=\"100%\">\n",
    "  </div>\n",
    "  <div style=\"flex: 50%; padding: 10px;\">\n",
    "    <img src=\"https://www.statology.org/wp-content/uploads/2021/05/rightSkew2-768x906.png\" alt=\"Image 2\" width=\"100%\">\n",
    "  </div>\n",
    "</div>\n",
    "    \n",
    "\n",
    "## Right-Skewed Distribution\n",
    "\n",
    "![](https://www.statology.org/wp-content/uploads/2021/05/boxSkew2-768x247.png)\n",
    "\n",
    "The closer the vertical line is to Q1, the more positively skewed the dataset."
   ]
  },
  {
   "cell_type": "markdown",
   "id": "fe58b4a6",
   "metadata": {},
   "source": [
    "2. Negatively Skewed (Left-Skewed) Distribution\n",
    "     - the tail on the left-hand side (the lower tail) is longer or stretched out compared to the right-hand side.\n",
    "     -  mean is typically less than the median\n",
    "\n",
    "Common examples of negatively skewed distributions include:\n",
    "\n",
    "        - The distribution of scores on easy exams or tests tend to be negatively skewed because most students score very high, while a few students score much lower than the average.\n",
    "        - Distribution of GPA among college students is negatively skewed since most students have a GPA between 2 and 4 with a few having a GPA much lower.\n",
    "        \n",
    "            \n",
    "<div style=\"display: flex;\">\n",
    "  <div style=\"flex: 50%; padding: 10px;\">\n",
    "    <img src=\"https://www.statology.org/wp-content/uploads/2021/05/leftSkew3-768x901.png\" alt=\"Image 1\" width=\"100%\">\n",
    "  </div>\n",
    "  <div style=\"flex: 50%; padding: 10px;\">\n",
    "    <img src=\"https://www.statology.org/wp-content/uploads/2021/05/leftSkew5-768x911.png\" alt=\"Image 2\" width=\"100%\">\n",
    "  </div>\n",
    "</div>\n",
    "    \n",
    "    \n",
    "\n",
    "## Left-Skewed Distribution\n",
    "\n",
    "![](https://www.statology.org/wp-content/uploads/2021/05/boxSkew4-768x251.png)    \n",
    "\n",
    "The closer the vertical line is to Q3, the more negatively skewed the dataset."
   ]
  },
  {
   "cell_type": "markdown",
   "id": "1fe996cb",
   "metadata": {},
   "source": [
    "### Visualizing Data Distribution\n",
    "\n",
    "We often use graphs to visualize data distribution:\n",
    "\n",
    "1. Histogram: A bar graph that shows the frequency of data points within specific ranges or bins. It's excellent for understanding the shape of the distribution.\n",
    "\n",
    "2. Box Plot (Box-and-Whisker Plot): This plot displays the distribution's median, quartiles, and potential outliers. It's useful for identifying extreme values.\n",
    "\n",
    "3. Normal Probability Plot (Q-Q Plot): A graphical tool to determine if data follows a normal distribution. It compares observed data points to what a normal distribution would look like."
   ]
  },
  {
   "cell_type": "markdown",
   "id": "7c935deb",
   "metadata": {},
   "source": [
    "### Box Plot\n",
    "\n",
    "A box plot is a type of plot that displays the five number summary of a dataset, which includes:\n",
    "\n",
    "- The minimum value\n",
    "- The first quartile (the 25th percentile)\n",
    "- The median value\n",
    "- The third quartile (the 75th percentile)\n",
    "- The maximum value\n",
    "\n",
    "\n",
    "![](https://miro.medium.com/v2/format:webp/1*ghJQrcLZXGWxDPzppLWULA.png)\n",
    "\n",
    "\n",
    " - the box embraces the portion of data included between the 25 and 75 percentiles (also known as first and third quartiles)\n",
    " - 25 percentile (or first quartile) of a given sample of numerical data indicates the value below which 25% of all sample data are located. \n",
    " \n",
    "- The 25th percentile (or first quartile)  represents the score below which 25% of the data (say exam scores) fall.\n",
    "- The 75th percentile represents the score below which 75% of the exam scores fall.\n",
    " \n",
    " \n",
    " \n",
    "- Median: within the box, we can also see the value of median. Note that the median is nothing but the 50 percentile of the underlying numerical data\n",
    "\n",
    "\n",
    "- Whisker: they account for all the values that fall outside the central 50% of data (the portion contained into the IQR).\n"
   ]
  },
  {
   "cell_type": "markdown",
   "id": "9d8c53ed",
   "metadata": {},
   "source": [
    "#### Skweness in Box Plot\n",
    "\n",
    "![](https://www.statology.org/wp-content/uploads/2018/09/boxplot.png)\n",
    "\n",
    "![](https://www.statology.org/wp-content/uploads/2021/01/skew7-768x625.png)"
   ]
  },
  {
   "cell_type": "markdown",
   "id": "bfd103de",
   "metadata": {},
   "source": [
    "![](https://www.statology.org/wp-content/uploads/2021/05/boxSkew6-768x266.png)"
   ]
  },
  {
   "cell_type": "markdown",
   "id": "6c44f7f1",
   "metadata": {},
   "source": [
    "### When comparing two or more box plots, we can answer four different questions:\n",
    "\n",
    "1. How do the median values compare? We can compare the vertical line in each box to determine which dataset has a higher median value.\n",
    "\n",
    "\n",
    "\n",
    "2. How does the dispersion compare? We can compare the length of each box (which represents the distance between Q1 and Q3 – the interquartile range) to determine which dataset is more spread out.\n",
    "\n",
    "\n",
    "\n",
    "3. How does the skewness compare? The closer the vertical line is to Q1, the more positively skewed the dataset. The closer the vertical line is to Q3, the more negatively skewed the dataset.\n",
    "\n",
    "\n",
    "\n",
    "4. Are outliers present? In box plots, outliers are typically represented by tiny circles that extend beyond either whisker. An observation is defined to be an outlier if it meets one of the following criteria:\n",
    "\n",
    "\n",
    "\n",
    "    - An observation is less than Q1 – 1.5*IQR\n",
    "    - An observation is greater than Q3 + 1.5*IQR\n",
    "    - The following example shows how to compare two different box plots and answer these four questions."
   ]
  },
  {
   "cell_type": "markdown",
   "id": "cb1e2761",
   "metadata": {},
   "source": [
    "![](https://www.statology.org/wp-content/uploads/2021/01/compareBox1-768x758.png)"
   ]
  },
  {
   "cell_type": "markdown",
   "id": "1bcb513c",
   "metadata": {},
   "source": [
    "# Write Answer "
   ]
  },
  {
   "cell_type": "code",
   "execution_count": null,
   "id": "1e83684d",
   "metadata": {},
   "outputs": [],
   "source": []
  },
  {
   "cell_type": "markdown",
   "id": "84d95546",
   "metadata": {},
   "source": [
    "# Python Code for Box Plot"
   ]
  },
  {
   "cell_type": "code",
   "execution_count": 1,
   "id": "a4e1ad3a",
   "metadata": {},
   "outputs": [
    {
     "name": "stderr",
     "output_type": "stream",
     "text": [
      "/Users/maladeep/miniforge3/envs/jupyter/lib/python3.10/site-packages/seaborn/categorical.py:82: FutureWarning: iteritems is deprecated and will be removed in a future version. Use .items instead.\n",
      "  plot_data = [np.asarray(s, float) for k, s in iter_data]\n"
     ]
    },
    {
     "data": {
      "image/png": "[encoded data removed]",
      "text/plain": [
       "<Figure size 800x600 with 1 Axes>"
      ]
     },
     "metadata": {},
     "output_type": "display_data"
    }
   ],
   "source": [
    "import seaborn as sns\n",
    "import matplotlib.pyplot as plt\n",
    "\n",
    "# Sample data (replace this with your own dataset)\n",
    "data = {\n",
    "    'Category1': [10, 15, 20, 25, 30, 35, 40, 45, 50],\n",
    "    'Category2': [5, 15, 25, 35, 45, 55, 65, 75, 85],\n",
    "    'Category3': [10, 20, 20, 30, 35, 40, 45, 50, 55]\n",
    "}\n",
    "\n",
    "# Create a DataFrame from the sample data\n",
    "import pandas as pd\n",
    "df = pd.DataFrame(data)\n",
    "\n",
    "color = ['Red', \"Blue\", \"red\"]\n",
    "# Create a box plot using Seaborn\n",
    "sns.set(style=\"whitegrid\")  # Set the style of the plot\n",
    "plt.figure(figsize=(8, 6))  # Set the figure size (optional)\n",
    "\n",
    "# Create the box plot\n",
    "sns.boxplot(data=df, palette=\"Set2\")  # You can change the color palette as needed\n",
    "\n",
    "# Add labels and a title\n",
    "plt.title(\"Box Plot Example\")\n",
    "plt.xlabel(\"Categories\")\n",
    "plt.ylabel(\"Values\")\n",
    "\n",
    "# Show the plot\n",
    "plt.show()\n"
   ]
  },
  {
   "cell_type": "code",
   "execution_count": null,
   "id": "f18e837c",
   "metadata": {},
   "outputs": [],
   "source": []
  },
  {
   "cell_type": "code",
   "execution_count": null,
   "id": "3a941c6d",
   "metadata": {},
   "outputs": [],
   "source": []
  },
  {
   "cell_type": "markdown",
   "id": "fce4b632",
   "metadata": {},
   "source": [
    "1. How do the median values compare? The line in the middle of the box plot for Study Method 1 is higher than the line for Study Method 2, which indicates that the students who used Study Method 1 had a higher median exam score.\n",
    "\n",
    "2. How does the dispersion compare? The box plot for Study Method 2 is much longer than Study Method 1, which indicates that the exam scores are much more spread out among students who used Study Method 2.\n",
    "\n",
    "3. How does the skewness compare? The line in the middle of the box plot for Study Method 1 is close to Q3, which indicates that the distribution of exam scores for students who used Study Method 1 is negatively skewed. Conversely, the line in the middle of the box plot for Study Method 2 is near the center of the box, which means the distribution of scores has little skew at all.\n",
    "\n",
    "4. Are outliers present? Neither box plot has tiny circles that extend beyond the top or bottom whiskers, which means neither dataset had any clear outliers."
   ]
  },
  {
   "cell_type": "code",
   "execution_count": null,
   "id": "7244500c",
   "metadata": {},
   "outputs": [],
   "source": []
  }
 ],
 "metadata": {
  "kernelspec": {
   "display_name": "Python 3 (ipykernel)",
   "language": "python",
   "name": "python3"
  },
  "language_info": {
   "codemirror_mode": {
    "name": "ipython",
    "version": 3
   },
   "file_extension": ".py",
   "mimetype": "text/x-python",
   "name": "python",
   "nbconvert_exporter": "python",
   "pygments_lexer": "ipython3",
   "version": "3.10.10"
  }
 },
 "nbformat": 4,
 "nbformat_minor": 5
}
