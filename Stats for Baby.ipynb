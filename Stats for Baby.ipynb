{
 "cells": [
  {
   "cell_type": "markdown",
   "id": "efa6a724",
   "metadata": {},
   "source": [
    "# Introduction to Statistics\n",
    "\n",
    "Statistics is the science of collecting, analyzing, and interpreting data. In data analytics, it helps us make sense of data by providing tools and techniques for describing and making inferences about the data.\n",
    "\n",
    "> We collect, organize, and draw meaningful insights from the data either through visualizations or mathematical explanations\n",
    "\n",
    "\n",
    "\n",
    "![](https://external-content.duckduckgo.com/iu/?u=https%3A%2F%2Fi.pinimg.com%2Foriginals%2F9e%2Fab%2Fa1%2F9eaba16aafe270fe7155549fe1063111.png&f=1&nofb=1&ipt=e3a0ee9b20d568fcf1021edce46b407176414893a6f30a8e0545bd082f765354&ipo=images)"
   ]
  },
  {
   "cell_type": "markdown",
   "id": "2fcd801a",
   "metadata": {},
   "source": [
    "---"
   ]
  },
  {
   "cell_type": "markdown",
   "id": "b4c928aa",
   "metadata": {},
   "source": [
    "# Population and Sample\n",
    "\n",
    "![](https://external-content.duckduckgo.com/iu/?u=https%3A%2F%2Fonline.stat.psu.edu%2Fstat507%2Fsites%2Fstat507%2Ffiles%2Flesson01%2Fpopulationsample.png&f=1&nofb=1&ipt=b85e64f4aaee5b4749cee2ef7e0a39d63f6404d21e6f26d7040e2a776e29966e&ipo=images)\n",
    "\n",
    "\n",
    "\n",
    "![](https://external-content.duckduckgo.com/iu/?u=https%3A%2F%2Fwww.qualitygurus.com%2Fwp-content%2Fuploads%2F2022%2F12%2FSample-vs-Population.jpg&f=1&nofb=1&ipt=e3e9a946e0d411dd3b738baaf5d84d0fbe453aea7ab6e4cebf28e71d2ae423db&ipo=images)"
   ]
  },
  {
   "cell_type": "markdown",
   "id": "d880bc24",
   "metadata": {},
   "source": [
    "# Descriptive Stast\n",
    "\n",
    "Descriptive statistics summarize and describe the features of a dataset. They provide simple summaries about the sample and the measures.\n",
    "\n",
    "\n",
    "## Measures of Central Tendency\n",
    "\n",
    "* Mean: The average of all data points.\n",
    "* Median: The middle value in a sorted data set.\n",
    "* Mode: The most frequent value in the data set.\n",
    "\n"
   ]
  },
  {
   "cell_type": "code",
   "execution_count": 16,
   "id": "cb51b6e0",
   "metadata": {},
   "outputs": [
    {
     "name": "stdout",
     "output_type": "stream",
     "text": [
      "Mean: 28.333333333333332\n",
      "Median: 25.0\n",
      "Mode: 20\n"
     ]
    },
    {
     "name": "stderr",
     "output_type": "stream",
     "text": [
      "/var/folders/m7/vyj4mfmx33lbl15hg59sl1mr0000gn/T/ipykernel_86364/505849784.py:15: FutureWarning: Unlike other reduction functions (e.g. `skew`, `kurtosis`), the default behavior of `mode` typically preserves the axis it acts along. In SciPy 1.11.0, this behavior will change: the default value of `keepdims` will become False, the `axis` over which the statistic is taken will be eliminated, and the value None will no longer be accepted. Set `keepdims` to True or False to avoid this warning.\n",
      "  mode_value = stats.mode(data)\n"
     ]
    }
   ],
   "source": [
    "import numpy as np\n",
    "from scipy import stats\n",
    "\n",
    "data = [10, 20, 20, 30, 40, 50]\n",
    "\n",
    "# Mean\n",
    "mean_value = np.mean(data)\n",
    "print(f\"Mean: {mean_value}\")\n",
    "\n",
    "# Median\n",
    "median_value = np.median(data)\n",
    "print(f\"Median: {median_value}\")\n",
    "\n",
    "# Mode\n",
    "mode_value = stats.mode(data)\n",
    "print(f\"Mode: {mode_value.mode[0]}\")\n"
   ]
  },
  {
   "cell_type": "markdown",
   "id": "664a0c64",
   "metadata": {},
   "source": [
    "## Measures of Spread\n",
    "\n",
    "* Variance: Measures the spread of data points. (veriance small- data is around Mean)\n",
    "* Standard Deviation: The square root of variance, representing the average distance from the mean.\n",
    "* Range: The difference between the maximum and minimum values.\n",
    "* Interquartile Range (IQR): The range between the first quartile (25th percentile) and the third quartile (75th percentile).\n",
    "\n",
    "![](https://external-content.duckduckgo.com/iu/?u=https%3A%2F%2Fi.ytimg.com%2Fvi%2Fs7WTQ0H0Acc%2Fmaxresdefault.jpg&f=1&nofb=1&ipt=ebd3d6e346abfe33931e42ae4be88e08e924b71d955a2191135e68ed16c7e573&ipo=images)"
   ]
  },
  {
   "cell_type": "code",
   "execution_count": 10,
   "id": "352bfb40",
   "metadata": {},
   "outputs": [
    {
     "name": "stdout",
     "output_type": "stream",
     "text": [
      "Variance: 180.55555555555557\n",
      "Standard Deviation: 13.43709624716425\n",
      "Range: 40\n",
      "Interquartile Range (IQR): 17.5\n"
     ]
    }
   ],
   "source": [
    "import numpy as np\n",
    "\n",
    "from scipy import stats\n",
    "\n",
    "# Variance\n",
    "variance_value = np.var(data)\n",
    "print(f\"Variance: {variance_value}\")\n",
    "\n",
    "# Standard Deviation\n",
    "std_dev_value = np.std(data)\n",
    "print(f\"Standard Deviation: {std_dev_value}\")\n",
    "\n",
    "# Range\n",
    "range_value = np.ptp(data)\n",
    "print(f\"Range: {range_value}\")\n",
    "\n",
    "# Interquartile Range (IQR)\n",
    "Q1 = np.percentile(data, 25)\n",
    "Q3 = np.percentile(data, 75)\n",
    "IQR = Q3 - Q1\n",
    "print(f\"Interquartile Range (IQR): {IQR}\")\n"
   ]
  },
  {
   "cell_type": "markdown",
   "id": "c73e6f95",
   "metadata": {},
   "source": [
    "* A variance of 180.56 indicates that the data points are spread out from the mean\n",
    "* A standard deviation of 13.44 means that, on average, each data point is 13.44 units away from the mean. It’s a measure of how spread out the data is.\n",
    "\n",
    "# Calculating the Range within One Standard Deviation\n",
    "* Lower Bound: Mean - Standard Deviation = 28.33 - 13.44 = 14.89\n",
    "* Upper Bound: Mean + Standard Deviation = 28.33 + 13.44 = 41.77\n",
    "\n",
    "So, most of your data points (about 68%, assuming a normal distribution) are expected to lie within this range: 14.89 to 41.77.\n",
    "\n",
    "\n",
    "\n",
    "* Range (40): Indicates that the spread between the smallest value (10) and the largest value (50) in your dataset is 40 units. This gives a rough idea of the overall spread of the data."
   ]
  },
  {
   "cell_type": "code",
   "execution_count": 11,
   "id": "8c1f0901",
   "metadata": {},
   "outputs": [
    {
     "name": "stdout",
     "output_type": "stream",
     "text": [
      "Mean: 28.333333333333332\n",
      "Standard Deviation: 13.43709624716425\n",
      "Range within one standard deviation: 14.896237086169082 to 41.770429580497584\n"
     ]
    }
   ],
   "source": [
    "#Calculate mean and standard deviation\n",
    "mean_value = np.mean(data)\n",
    "std_dev_value = np.std(data)\n",
    "\n",
    "# Calculate the range within one standard deviation\n",
    "lower_bound = mean_value - std_dev_value\n",
    "upper_bound = mean_value + std_dev_value\n",
    "\n",
    "print(f\"Mean: {mean_value}\")\n",
    "print(f\"Standard Deviation: {std_dev_value}\")\n",
    "print(f\"Range within one standard deviation: {lower_bound} to {upper_bound}\")"
   ]
  },
  {
   "cell_type": "code",
   "execution_count": 12,
   "id": "33a54af4",
   "metadata": {},
   "outputs": [
    {
     "data": {
      "image/png": "[encoded data removed]",
      "text/plain": [
       "<Figure size 640x480 with 1 Axes>"
      ]
     },
     "metadata": {},
     "output_type": "display_data"
    }
   ],
   "source": [
    "plt.hist(data, bins=5, edgecolor='black')\n",
    "plt.axvline(mean_value, color='k', linestyle='dashed', linewidth=1)\n",
    "plt.axvline(lower_bound, color='r', linestyle='dashed', linewidth=1)\n",
    "plt.axvline(upper_bound, color='r', linestyle='dashed', linewidth=1)\n",
    "plt.title('Histogram with Mean and Standard Deviation')\n",
    "plt.xlabel('Value')\n",
    "plt.ylabel('Frequency')\n",
    "plt.show()\n"
   ]
  },
  {
   "cell_type": "markdown",
   "id": "ba6ee489",
   "metadata": {},
   "source": [
    "#  Inferential Statistics\n",
    "Inferential statistics allow us to make predictions or inferences about a population based on a sample of data.\n",
    "\n",
    "![](https://external-content.duckduckgo.com/iu/?u=https%3A%2F%2Fmiro.medium.com%2Fv2%2Fresize%3Afit%3A1024%2F1*1c6QZPCzoUaBSH-R1VygHQ.jpeg&f=1&nofb=1&ipt=54058c3999f2c4b545dee155b8a5e89a49eb26e0c0a04b108fe61c9b08bbe17c&ipo=images)\n",
    "\n",
    "\n",
    "# Inferential statistics have two main uses:\n",
    "\n",
    "* making estimates about populations (for example, the mean SAT score of all 11th graders in the US).\n",
    "* testing hypotheses to draw conclusions about populations (for example, the relationship between SAT scores and family income).\n",
    "\n",
    "\n",
    "\n",
    "# Statistic vs Paramater\n",
    "* A statistic is a measure that describes the sample (e.g., sample mean).\n",
    "* A parameter is a measure that describes the whole population (e.g., population mean).\n",
    "\n",
    "\n",
    "> Sampling error is the difference between a parameter and a corresponding statistic. \n",
    "\n",
    "## Confidence Interval\n",
    "\n",
    "A confidence interval gives an estimated range of values which is likely to include an unknown population parameter."
   ]
  },
  {
   "cell_type": "markdown",
   "id": "eeeb95b1",
   "metadata": {},
   "source": [
    "## Hypotheis Testing\n",
    "\n",
    "* Hypothesis testing helps us make decisions about the data.\n",
    "* Hypothesis testing is a formal process of statistical analysis using inferential statistics.\n",
    "* Hypotheses, or predictions, are tested using statistical tests. \n",
    "\n",
    "\n",
    "### Parametric tests make assumptions that include the following:\n",
    "\n",
    "* the population that the sample comes from follows a normal distribution of scores\n",
    "* the sample size is large enough to represent the population\n",
    "* the variances, a measure of variability, of each group being compared are similar\n"
   ]
  },
  {
   "cell_type": "markdown",
   "id": "5f8918b0",
   "metadata": {},
   "source": [
    "# Para or No Para\n",
    "\n",
    "| Parametric tests of means                           | Nonparametric tests of medians                    |\n",
    "|-----------------------------------------------------|---------------------------------------------------|\n",
    "| 1-sample t-test, Paired t-test                      | Sign test, Wilcoxon signed rank test              |\n",
    "| 2-sample t-test                                     | Mann-Whitney U test                               |\n",
    "| One-Way ANOVA                                       | Kruskal-Wallis test, Mood’s median test           |\n",
    "| Factorial DOE with a factor and a blocking variable | Friedman test                                     |\n",
    "| Pearson Correlation                                 | Spearman's Correlation                       |\n",
    "\n",
    "\n",
    "> When your data violates any of these assumptions, non-parametric tests are more suitable. Non-parametric tests are called “distribution-free tests” because they don’t assume anything about the distribution of the population data.\n",
    "\n",
    "> Nonparametric tests don’t require that your data follow the normal distribution.\n"
   ]
  },
  {
   "cell_type": "markdown",
   "id": "ddf1e40b",
   "metadata": {},
   "source": [
    "* Parametric analyses can produce reliable results even when your continuous data are nonnormally distributed. You just have to be sure that your sample size meets the requirements for each analysis in the table below. \n",
    "\n",
    "\n",
    "| Parametric analyses  | Sample size requirements for nonnormal data                               |\n",
    "|----------------------|----------------------------------------------------------------------------|\n",
    "| 1-sample t-test      | Greater than 20                                                            |\n",
    "| 2-sample t-test      | Each group should have more than 15 observations                           |\n",
    "| One-Way ANOVA        | For 2-9 groups, each group should have more than 15 observations           |\n",
    "|                      | For 10-12 groups, each group should have more than 20 observations         |\n"
   ]
  },
  {
   "cell_type": "markdown",
   "id": "f574bfff",
   "metadata": {},
   "source": [
    "# When to Use What\n",
    "\n",
    "## Statistical tests come in three forms: tests of comparison, correlation or regression\n",
    "\n",
    "| Statistical Test                | When to Use                                                                                     | Example                                                                                      |\n",
    "|---------------------------------|-------------------------------------------------------------------------------------------------|----------------------------------------------------------------------------------------------|\n",
    "| **1-sample t-test**             | To compare the mean of a single sample to a known value or population mean                      | Checking if the average height of students in a class is different from the national average |\n",
    "| **Paired t-test**               | To compare the means of two related groups                                                      | Comparing pre-test and post-test scores of the same students                                 |\n",
    "| **2-sample t-test**             | To compare the means of two independent groups                                                  | Comparing test scores between two different classes                                          |\n",
    "| **ANOVA (One-Way)**             | To compare means across three or more independent groups                                        | Testing the effect of different diets on weight loss across multiple groups                  |\n",
    "| **Chi-Square Test**             | To test the association between two categorical variables                                       | Determining if there is a relationship between gender and voting preference                  |\n",
    "| **Mann-Whitney U Test**         | To compare differences between two independent groups when the data is not normally distributed | Comparing the satisfaction ratings of two different products                                 |\n",
    "| **Wilcoxon Signed-Rank Test**   | To compare two related samples when the data is not normally distributed                        | Comparing pain levels before and after treatment within the same group of patients           |\n",
    "| **Kruskal-Wallis Test**         | To compare three or more independent groups when the data is not normally distributed           | Comparing customer satisfaction across multiple store locations                              |\n",
    "| **Friedman Test**               | To compare three or more related groups                                                         | Comparing test scores of the same students under three different teaching methods            |\n",
    "| **Correlation Test (Pearson)**  | To measure the strength and direction of the relationship between two continuous variables      | Assessing the relationship between hours studied and exam scores                             |\n",
    "| **Correlation Test (Spearman)** | To measure the strength and direction of the relationship between two ranked variables          | Assessing the relationship between rank in a competition and level of satisfaction           |\n",
    "| **Regression Analysis**         | To understand the relationship between dependent and independent variables                      | Predicting house prices based on square footage, number of bedrooms, and location            |\n"
   ]
  },
  {
   "cell_type": "code",
   "execution_count": 15,
   "id": "53119b26",
   "metadata": {},
   "outputs": [
    {
     "name": "stdout",
     "output_type": "stream",
     "text": [
      "T-statistic: 1.338436383470007\n",
      "P-value: 0.18201032884302448\n",
      "We fail to reject the null hypothesis. There is no significant difference between the average total bills of smokers and non-smokers.\n"
     ]
    }
   ],
   "source": [
    "import seaborn as sns\n",
    "import numpy as np\n",
    "from scipy import stats\n",
    "\n",
    "# Load the dataset\n",
    "tips = sns.load_dataset(\"tips\")\n",
    "\n",
    "# Separate the total bills of smokers and non-smokers\n",
    "smokers = tips[tips['smoker'] == 'Yes']['total_bill']\n",
    "non_smokers = tips[tips['smoker'] == 'No']['total_bill']\n",
    "\n",
    "# Perform a 2-sample t-test\n",
    "t_stat, p_value = stats.ttest_ind(smokers, non_smokers)\n",
    "\n",
    "# Print the results\n",
    "print(f\"T-statistic: {t_stat}\")\n",
    "print(f\"P-value: {p_value}\")\n",
    "\n",
    "# Interpretation of the results\n",
    "alpha = 0.05  # significance level 0.005 0.001\n",
    "if p_value < alpha:\n",
    "    print(\"We reject the null hypothesis. There is a significant difference between the average total bills of smokers and non-smokers.\")\n",
    "else:\n",
    "    print(\"We fail to reject the null hypothesis. There is no significant difference between the average total bills of smokers and non-smokers.\")\n"
   ]
  },
  {
   "cell_type": "code",
   "execution_count": null,
   "id": "330bc209",
   "metadata": {},
   "outputs": [],
   "source": []
  },
  {
   "cell_type": "code",
   "execution_count": null,
   "id": "a30075e9",
   "metadata": {},
   "outputs": [],
   "source": []
  },
  {
   "cell_type": "code",
   "execution_count": null,
   "id": "958551b6",
   "metadata": {},
   "outputs": [],
   "source": []
  },
  {
   "cell_type": "code",
   "execution_count": null,
   "id": "1ec13f41",
   "metadata": {},
   "outputs": [],
   "source": []
  },
  {
   "cell_type": "markdown",
   "id": "8ae9cbaa",
   "metadata": {},
   "source": [
    "# Blog to Read\n",
    "\n",
    "[Inferential Statistics | An Easy Introduction & Examples](https://www.scribbr.com/statistics/inferential-statistics/)\n",
    "\n",
    "\n",
    "[Choosing the Right Statistical Test | Types & Examples](https://www.scribbr.com/statistics/statistical-tests/)\n",
    "\n",
    "[Para or No PAra](https://statisticsbyjim.com/hypothesis-testing/nonparametric-parametric-tests/)"
   ]
  },
  {
   "cell_type": "markdown",
   "id": "faa04c77",
   "metadata": {},
   "source": [
    "# https://statisticsbyjim.com/"
   ]
  },
  {
   "cell_type": "code",
   "execution_count": null,
   "id": "06d64e92",
   "metadata": {},
   "outputs": [],
   "source": []
  }
 ],
 "metadata": {
  "kernelspec": {
   "display_name": "Python 3 (ipykernel)",
   "language": "python",
   "name": "python3"
  },
  "language_info": {
   "codemirror_mode": {
    "name": "ipython",
    "version": 3
   },
   "file_extension": ".py",
   "mimetype": "text/x-python",
   "name": "python",
   "nbconvert_exporter": "python",
   "pygments_lexer": "ipython3",
   "version": "3.10.10"
  }
 },
 "nbformat": 4,
 "nbformat_minor": 5
}
