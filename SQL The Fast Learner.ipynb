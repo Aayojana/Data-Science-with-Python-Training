{
 "cells": [
  {
   "cell_type": "markdown",
   "id": "a4990430",
   "metadata": {},
   "source": [
    "<img src=\"https://external-content.duckduckgo.com/iu/?u=https%3A%2F%2Fwww.yourtechstory.com%2Fwp-content%2Fuploads%2F2019%2F08%2Fsql.png&f=1&nofb=1&ipt=0c237d2032331197caeecc61d4d0d2b472d97e5dadf9c878b64dca91c4427d86&ipo=images\" />"
   ]
  },
  {
   "cell_type": "markdown",
   "id": "c234b8de",
   "metadata": {},
   "source": [
    "# Question\n",
    "\n",
    " \n",
    "\n",
    "### Consider a library system where you have books, authors, and borrowers. Each book has a title, ISBN, and is written by one or more authors. Each author has a name and a unique author ID. Borrowers have a name, a unique borrower ID, and can borrow multiple books. Each book can be borrowed by multiple borrowers, and a borrower can borrow multiple books. Design an ER diagram for this library system."
   ]
  },
  {
   "cell_type": "markdown",
   "id": "76783b08",
   "metadata": {},
   "source": [
    "# Creating SQL Schema"
   ]
  },
  {
   "cell_type": "markdown",
   "id": "019593fb",
   "metadata": {},
   "source": [
    "CREATE TABLE Authors (\n",
    "    author_id INT PRIMARY KEY,\n",
    "    name VARCHAR(255) NOT NULL\n",
    ");\n",
    "\n",
    "\n",
    "\n",
    "\n",
    "\n",
    "CREATE TABLE Books (\n",
    "    book_id INT PRIMARY KEY,\n",
    "    title VARCHAR(255) NOT NULL,\n",
    "    isbn VARCHAR(13) NOT NULL,\n",
    "    PRIMARY KEY (book_id),\n",
    "    FOREIGN KEY (author_id) REFERENCES Authors(author_id)\n",
    ");\n",
    "\n",
    "\n",
    "\n",
    "\n",
    "\n",
    "\n",
    "\n",
    "CREATE TABLE Borrowers (\n",
    "    borrower_id INT PRIMARY KEY,\n",
    "    name VARCHAR(255) NOT NULL\n",
    ");\n",
    "\n",
    "\n",
    "\n",
    "\n",
    "\n",
    "\n",
    "\n",
    "CREATE TABLE BorrowedBooks (\n",
    "    borrow_id INT PRIMARY KEY,\n",
    "    book_id INT,\n",
    "    borrower_id INT,\n",
    "    borrow_date DATE,\n",
    "    return_date DATE,\n",
    "    FOREIGN KEY (book_id) REFERENCES Books(book_id),\n",
    "    FOREIGN KEY (borrower_id) REFERENCES Borrowers(borrower_id)\n",
    ");\n"
   ]
  },
  {
   "cell_type": "markdown",
   "id": "ea4f8663",
   "metadata": {},
   "source": [
    "This schema includes tables for Authors, Books, Borrowers, and BorrowedBooks. The BorrowedBooks table is a junction table to represent the many-to-many relationship between books and borrowers. It also includes borrow and return dates for tracking borrowing history."
   ]
  },
  {
   "cell_type": "code",
   "execution_count": 2,
   "id": "256aa4b7",
   "metadata": {},
   "outputs": [
    {
     "ename": "SyntaxError",
     "evalue": "invalid syntax (3803063207.py, line 1)",
     "output_type": "error",
     "traceback": [
      "\u001b[0;36m  Cell \u001b[0;32mIn[2], line 1\u001b[0;36m\u001b[0m\n\u001b[0;31m    INSERT INTO Authors (author_id, name) VALUES (1, 'John Doe');\u001b[0m\n\u001b[0m           ^\u001b[0m\n\u001b[0;31mSyntaxError\u001b[0m\u001b[0;31m:\u001b[0m invalid syntax\n"
     ]
    }
   ],
   "source": [
    "INSERT INTO Authors (author_id, name) VALUES (1, 'John Doe');\n",
    "INSERT INTO Books (book_id, title, isbn, author_id) VALUES (1, 'Sample Book', '1234567890123', 1);\n",
    "INSERT INTO Borrowers (borrower_id, name) VALUES (1, 'Jane Smith');\n",
    "INSERT INTO BorrowedBooks (borrow_id, book_id, borrower_id, borrow_date, return_date) VALUES (1, 1, 1, '2023-01-01', NULL);\n"
   ]
  },
  {
   "cell_type": "code",
   "execution_count": 3,
   "id": "d469eff3",
   "metadata": {},
   "outputs": [
    {
     "ename": "SyntaxError",
     "evalue": "invalid syntax (2652068240.py, line 1)",
     "output_type": "error",
     "traceback": [
      "\u001b[0;36m  Cell \u001b[0;32mIn[3], line 1\u001b[0;36m\u001b[0m\n\u001b[0;31m    SELECT * FROM Authors;\u001b[0m\n\u001b[0m                  ^\u001b[0m\n\u001b[0;31mSyntaxError\u001b[0m\u001b[0;31m:\u001b[0m invalid syntax\n"
     ]
    }
   ],
   "source": [
    "SELECT * FROM Authors;\n",
    "SELECT * FROM Books;\n",
    "SELECT * FROM Borrowers;\n",
    "SELECT * FROM BorrowedBooks;\n"
   ]
  },
  {
   "cell_type": "code",
   "execution_count": 4,
   "id": "c87f3f0a",
   "metadata": {},
   "outputs": [
    {
     "ename": "SyntaxError",
     "evalue": "invalid syntax (3653973338.py, line 1)",
     "output_type": "error",
     "traceback": [
      "\u001b[0;36m  Cell \u001b[0;32mIn[4], line 1\u001b[0;36m\u001b[0m\n\u001b[0;31m    UPDATE BorrowedBooks SET return_date = '2023-02-01' WHERE borrow_id = 1;\u001b[0m\n\u001b[0m           ^\u001b[0m\n\u001b[0;31mSyntaxError\u001b[0m\u001b[0;31m:\u001b[0m invalid syntax\n"
     ]
    }
   ],
   "source": [
    "UPDATE BorrowedBooks SET return_date = '2023-02-01' WHERE borrow_id = 1;\n"
   ]
  },
  {
   "cell_type": "code",
   "execution_count": 5,
   "id": "1bdadf8f",
   "metadata": {},
   "outputs": [
    {
     "ename": "SyntaxError",
     "evalue": "invalid syntax (3653973338.py, line 1)",
     "output_type": "error",
     "traceback": [
      "\u001b[0;36m  Cell \u001b[0;32mIn[5], line 1\u001b[0;36m\u001b[0m\n\u001b[0;31m    UPDATE BorrowedBooks SET return_date = '2023-02-01' WHERE borrow_id = 1;\u001b[0m\n\u001b[0m           ^\u001b[0m\n\u001b[0;31mSyntaxError\u001b[0m\u001b[0;31m:\u001b[0m invalid syntax\n"
     ]
    }
   ],
   "source": [
    "UPDATE BorrowedBooks SET return_date = '2023-02-01' WHERE borrow_id = 1;\n"
   ]
  },
  {
   "cell_type": "markdown",
   "id": "d58d0d17",
   "metadata": {},
   "source": [
    "## SELECT with WHERE clause:"
   ]
  },
  {
   "cell_type": "code",
   "execution_count": 6,
   "id": "4ccf7730",
   "metadata": {},
   "outputs": [
    {
     "ename": "SyntaxError",
     "evalue": "invalid syntax (3400597460.py, line 1)",
     "output_type": "error",
     "traceback": [
      "\u001b[0;36m  Cell \u001b[0;32mIn[6], line 1\u001b[0;36m\u001b[0m\n\u001b[0;31m    -- Retrieve books written by a specific author\u001b[0m\n\u001b[0m                ^\u001b[0m\n\u001b[0;31mSyntaxError\u001b[0m\u001b[0;31m:\u001b[0m invalid syntax\n"
     ]
    }
   ],
   "source": [
    "-- Retrieve books written by a specific author\n",
    "SELECT * FROM Books WHERE author_id = 1;\n"
   ]
  },
  {
   "cell_type": "markdown",
   "id": "3c1a0cd1",
   "metadata": {},
   "source": [
    "# SELECT with AND condition:"
   ]
  },
  {
   "cell_type": "code",
   "execution_count": 7,
   "id": "88e51f7f",
   "metadata": {},
   "outputs": [
    {
     "ename": "SyntaxError",
     "evalue": "invalid syntax (4145718829.py, line 1)",
     "output_type": "error",
     "traceback": [
      "\u001b[0;36m  Cell \u001b[0;32mIn[7], line 1\u001b[0;36m\u001b[0m\n\u001b[0;31m    -- Retrieve books borrowed by a specific borrower and not yet returned\u001b[0m\n\u001b[0m                ^\u001b[0m\n\u001b[0;31mSyntaxError\u001b[0m\u001b[0;31m:\u001b[0m invalid syntax\n"
     ]
    }
   ],
   "source": [
    "-- Retrieve books borrowed by a specific borrower and not yet returned\n",
    "SELECT * FROM BorrowedBooks WHERE borrower_id = 1 AND return_date IS NULL;\n"
   ]
  },
  {
   "cell_type": "markdown",
   "id": "141238db",
   "metadata": {},
   "source": [
    "# Join in SQL\n",
    "\n",
    "\n",
    "\n",
    "<img src=\"https://external-content.duckduckgo.com/iu/?u=https%3A%2F%2Fstatisticsglobe.com%2Fwp-content%2Fuploads%2F2021%2F12%2FJoins-Theory.png&f=1&nofb=1&ipt=6cac478231480161e7397ed3ecfe0e0d8f688f0bf5f1804eca8e2ee333e4a22a&ipo=images\" />"
   ]
  },
  {
   "cell_type": "markdown",
   "id": "99758eba",
   "metadata": {},
   "source": [
    "# Inner join\n"
   ]
  },
  {
   "cell_type": "code",
   "execution_count": 8,
   "id": "00567c44",
   "metadata": {},
   "outputs": [
    {
     "ename": "SyntaxError",
     "evalue": "invalid syntax (2640415192.py, line 1)",
     "output_type": "error",
     "traceback": [
      "\u001b[0;36m  Cell \u001b[0;32mIn[8], line 1\u001b[0;36m\u001b[0m\n\u001b[0;31m    -- Retrieve information about borrowed books along with borrower and book details\u001b[0m\n\u001b[0m                ^\u001b[0m\n\u001b[0;31mSyntaxError\u001b[0m\u001b[0;31m:\u001b[0m invalid syntax\n"
     ]
    }
   ],
   "source": [
    "-- Retrieve information about borrowed books along with borrower and book details\n",
    "SELECT BorrowedBooks.borrow_id, Books.title, Borrowers.name AS borrower_name\n",
    "FROM BorrowedBooks\n",
    "INNER JOIN Books ON BorrowedBooks.book_id = Books.book_id\n",
    "INNER JOIN Borrowers ON BorrowedBooks.borrower_id = Borrowers.borrower_id;\n"
   ]
  },
  {
   "cell_type": "markdown",
   "id": "657c38cf",
   "metadata": {},
   "source": [
    "# Left Join "
   ]
  },
  {
   "cell_type": "code",
   "execution_count": null,
   "id": "d03e3b57",
   "metadata": {},
   "outputs": [],
   "source": [
    "-- Retrieve all books and their borrowers, including books that are not borrowed\n",
    "SELECT Books.title, Borrowers.name AS borrower_name\n",
    "FROM Books\n",
    "LEFT JOIN BorrowedBooks ON Books.book_id = BorrowedBooks.book_id\n",
    "LEFT JOIN Borrowers ON BorrowedBooks.borrower_id = Borrowers.borrower_id;\n"
   ]
  }
 ],
 "metadata": {
  "kernelspec": {
   "display_name": "Python 3 (ipykernel)",
   "language": "python",
   "name": "python3"
  },
  "language_info": {
   "codemirror_mode": {
    "name": "ipython",
    "version": 3
   },
   "file_extension": ".py",
   "mimetype": "text/x-python",
   "name": "python",
   "nbconvert_exporter": "python",
   "pygments_lexer": "ipython3",
   "version": "3.10.10"
  }
 },
 "nbformat": 4,
 "nbformat_minor": 5
}
